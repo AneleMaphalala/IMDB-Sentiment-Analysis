{
 "cells": [
  {
   "cell_type": "markdown",
   "metadata": {},
   "source": [
    "# **IMBD Movie Reviews**\n",
    "\n",
    "## Overview\n",
    "Internet Movie Database (IMDb) is an online resource that provides extensive information and statistics on movies, TV shows, and video games, along with details about actors, directors, and other professionals in the film industry. It includes lists of cast and crew members, release dates, box office data, plot summaries, trailers, biographies of actors and directors, and various trivia.\n",
    "\n",
    "#### Data Description\n",
    "This dataset comprises of 50,000 movie reviews each labeled with either positive (e.g., rating above 6/10) or negative sentiment (e.g., rating below 5/10).\n",
    "\n",
    "- '`reviews'`: Text data from user-submitted movie reviews.\n",
    "- '`sentiment`': Sentiment labels, each review is labeled as either positive (e.g., rating above 6/10) or negative (e.g., rating below 5/10).\n"
   ]
  },
  {
   "cell_type": "markdown",
   "metadata": {},
   "source": [
    "<a id='cont'></a>\n",
    "\n",
    "## Table of Contents\n",
    "- [1. Import Packages](#one)\n",
    "- [2. Load Data](#two)\n",
    "- [3. Exploratory Data Analysis (EDA)](#three)\n",
    "- [4. Feature Engineering](#four)\n",
    "- [5. Modeling](#five)\n",
    "- [6. Model Explanation](#six)\n",
    "- [7. Model Evaluation](#seven)\n",
    "- [8. Model Deployment](#eight)\n",
    "- [9. Conclusion](#nine)"
   ]
  },
  {
   "cell_type": "markdown",
   "metadata": {},
   "source": [
    "<a id='one'></a>\n",
    "# 1. Import Packages \n",
    "[Back to Table of Contents](#cont)\n",
    "\n",
    "----"
   ]
  },
  {
   "cell_type": "code",
   "execution_count": 2,
   "metadata": {},
   "outputs": [],
   "source": [
    "import pandas as pd\n",
    "import numpy as np\n",
    "import nltk\n",
    "import string\n",
    "from nltk.corpus import stopwords\n",
    "from sklearn.feature_extraction.text import CountVectorizer\n",
    "from sklearn.feature_extraction.text import TfidfTransformer\n",
    "from sklearn.naive_bayes import MultinomialNB\n",
    "from sklearn.ensemble import RandomForestClassifier\n",
    "from sklearn.model_selection import train_test_split\n",
    "from sklearn.pipeline import Pipeline\n",
    "from sklearn.metrics import confusion_matrix\n",
    "from sklearn.metrics import classification_report\n",
    "import matplotlib.pyplot as plt\n",
    "import seaborn as sns\n",
    "%matplotlib inline\n",
    "import joblib"
   ]
  },
  {
   "cell_type": "markdown",
   "metadata": {},
   "source": [
    "<a id='two'></a>\n",
    "# 2. Load Data\n",
    "[Back to Table of Contents](#cont)\n",
    "\n",
    "---"
   ]
  },
  {
   "cell_type": "code",
   "execution_count": 4,
   "metadata": {},
   "outputs": [],
   "source": [
    "imdb = pd.read_csv(\"IMDB Dataset.csv\")"
   ]
  },
  {
   "cell_type": "markdown",
   "metadata": {},
   "source": [
    "<a id=\"three\"></a>\n",
    "# 3. Exploratory Data Analysis (EDA)\n",
    "[Back to Table of Contents](#cont)\n",
    "\n",
    "---"
   ]
  },
  {
   "cell_type": "markdown",
   "metadata": {},
   "source": [
    "<a id=\"four\"></a>\n",
    "# 4. Feature Engineering\n",
    "[Back to Table of Contents](#cont)\n",
    "\n",
    "---"
   ]
  },
  {
   "cell_type": "markdown",
   "metadata": {},
   "source": [
    "<a id=\"five\"></a>\n",
    "# 5. Modeling\n",
    "[Back to Table of Contents](#cont)\n",
    "\n",
    "---"
   ]
  },
  {
   "cell_type": "markdown",
   "metadata": {},
   "source": [
    "<a id=\"six\"></a>\n",
    "# 6. Model Explanation\n",
    "[Back to Table of Contents](#cont)\n",
    "\n",
    "---\n"
   ]
  },
  {
   "cell_type": "markdown",
   "metadata": {},
   "source": [
    "<a id=\"seven\"></a>\n",
    "# 7. Model Evaluation\n",
    "[Back to Table of Contents](#cont)\n",
    "\n",
    "---"
   ]
  },
  {
   "cell_type": "markdown",
   "metadata": {},
   "source": [
    "<a id=\"eight\"></a>\n",
    "\n",
    "# 8. Model Deployment\n",
    "[Back to Table of Contents](#cont)\n",
    "\n",
    "---"
   ]
  },
  {
   "cell_type": "markdown",
   "metadata": {},
   "source": [
    "<a id='nine'></a>\n",
    "# 9. Conclusion\n",
    "[Back to Table of Contents](#cont)\n",
    "\n",
    "---"
   ]
  }
 ],
 "metadata": {
  "kernelspec": {
   "display_name": "base",
   "language": "python",
   "name": "python3"
  },
  "language_info": {
   "codemirror_mode": {
    "name": "ipython",
    "version": 3
   },
   "file_extension": ".py",
   "mimetype": "text/x-python",
   "name": "python",
   "nbconvert_exporter": "python",
   "pygments_lexer": "ipython3",
   "version": "3.11.5"
  }
 },
 "nbformat": 4,
 "nbformat_minor": 2
}
